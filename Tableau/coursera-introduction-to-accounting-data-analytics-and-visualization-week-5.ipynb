{
 "cells": [
  {
   "cell_type": "markdown",
   "metadata": {},
   "source": [
    "# <font color='darkred'>Data Visualization</font>"
   ]
  },
  {
   "cell_type": "markdown",
   "metadata": {},
   "source": [
    "* Get an overview of the data\n",
    "* Narrow in on certain aspects of the data that seem interesting and/or abnormal\n",
    "* Drill down on those aspects and analyze further"
   ]
  },
  {
   "cell_type": "markdown",
   "metadata": {},
   "source": [
    "### Connecting to a data set"
   ]
  },
  {
   "cell_type": "markdown",
   "metadata": {},
   "source": [
    "Data Source tab has several key sections\n",
    "* Connections\n",
    "* Sheets\n",
    "* Layout\n",
    "* Metadata manager\n",
    "* Connect (Live / Extract / Filters)"
   ]
  },
  {
   "cell_type": "markdown",
   "metadata": {},
   "source": [
    "### Creating a visualizaton"
   ]
  },
  {
   "cell_type": "markdown",
   "metadata": {},
   "source": [
    "Shelfs - Rows (y-axis) and Columns (x-axis)\n",
    "Tableau automatically aggregates data (you can disaggregate it)\n",
    "* Drag Date into Details on the Marks Card\n",
    "* Drag Ticker and Date to Filters Card\n",
    "* Change size of the marks\n",
    "* Change range of the axes\n",
    "* Change title of the sheets\n",
    "* Worksheet -> Show Caption\n",
    "* Create a duplicate of the first sheet\n",
    "* Edit Ticker filter to include (tsla, gm, tm) and change the date range for both axes to automatic\n",
    "* Notice that at this level of granularity (Tableau speak Level of Detail), the there is only one cluster of data points\n",
    " * This is because each point represents the sum of open and sum of close prices for the three tickers combined\n",
    "* To seperate out the three tickers, drag the ticker dimension to the Colour on the Marks Card\n",
    "* Right click on the legends (RHS) and select Edit Colours to change the default colors of the three tickers\n",
    "* Go to the Analytics tab (LHS) and drag the Average Line to the SUM(Open) and SUM(Close) at the Table level (Pane  and Cell)"
   ]
  },
  {
   "cell_type": "markdown",
   "metadata": {},
   "source": [
    "### Bar Charts and Histograms"
   ]
  },
  {
   "cell_type": "markdown",
   "metadata": {},
   "source": [
    "Carefully consider how Tableau aggregates measures within a view in context to the view's LOD\n",
    "\n",
    "* Set the sort order on descending average daily return pct (Sort from the menu bar)\n",
    "* Analytics tab -> Median with Quartiles at the Table level\n",
    "* Right click the \"Ticker\" in the viz and select Hide Field Labels for Columns\n",
    "* To generate a histogram -> drag the field of interest to the Columns shelf -> select Histogram from Show Me\n",
    "* Drag Ticker to the Colour Marks\n",
    "* Go to the Ticker legend (RHS) and select Sort from the drop-down -> Sort By (Manual) -> drag the tickers to the desired sort order...\n",
    "* To create a faceted histogram, drag Ticker to the Columns shelf"
   ]
  },
  {
   "cell_type": "markdown",
   "metadata": {},
   "source": [
    "### Box Plots and Line Charts"
   ]
  },
  {
   "cell_type": "markdown",
   "metadata": {},
   "source": [
    "Fast idea generations -> While holding down Ctrl click Daily Return Pct measure and Ticker dimension -> Go to Show Me and select box plot\n",
    "* The Show Me Box Plot -> put Ticker in the Detail Marks and SUM(Daily Return Pct) in the Rows Shelf\n",
    "* To show a box plot for each Ticker drag Ticker to the Columns shelf.\n",
    "* To show the distribution for daily Daily Return Pct, drag Date to the Detail Mark and expand the hierarchy till you get to DAY(Date)\n",
    "* Drag Ticker to the Colour Mark\n",
    "* Right click on any of the boxes -> Edit -> check Hide underlying marks (expect outliers)\n",
    "\n",
    "For line charts -> Date to Column shelf and Close to Row shelf\n",
    "* Again observe the aggregation of the measures field carefully\n",
    "* Click the hierachy on YEAR(Date) -> QUARTER(Date) -> Show Me -> select the For lines (continuous) try -> notice what happened to the Date pill in the Columns shelf\n",
    "* Click the drop-down on the QUARTER(Date) in the Column shelf and select Day\n",
    "* Caution: notice the aggregation based on the Viz detail... Is this correct? If not modify the LOD by dragging Ticker to the Colour Mark\n",
    "* Drag Adjusted to the Rows shelf to create facetted plots for Ajudsted and Close"
   ]
  },
  {
   "cell_type": "markdown",
   "metadata": {},
   "source": [
    "### Adding Dimensions in Tableau"
   ]
  },
  {
   "cell_type": "markdown",
   "metadata": {},
   "source": [
    "Shape, Position, Color and Size\n",
    "* Duplicate the bar chart viz that we made for Daily Return Pct\n",
    "* Drag Volume to the Size Marks -> notice that the width of the bars adjusts according the the relative volume by ticker\n",
    "* You can filter out a ticker and the bar widths recalibrate based on the tickers displayed after the filter step\n",
    "* Go loco -> Drag Daily Change in Price to the Colour Mark\n",
    "\n",
    "Add dimensions to the Scatter Plot\n",
    "* Drag Volume to the Size Marks and adjust the size scaling\n",
    "* Right click in an empty section of the viz -> select Show View Toolbar -> this enabling zooming, panning, etc...\n",
    "* Right click on the Ticker dimension -> Create -> Calculated Field -> encode logic to determine if Ticker is Domestic or Foreign\n",
    "* Drag the newly created Domestic or Foreign dimension to the Shape Marks\n",
    "* Add motion -> Drag Date to Pages -> Drill down to MONTH(Date) -> Play with the MONTH(Date) animation control on the RHS"
   ]
  },
  {
   "cell_type": "markdown",
   "metadata": {},
   "source": [
    "### Facets and Groups"
   ]
  },
  {
   "cell_type": "markdown",
   "metadata": {},
   "source": [
    "Facets (facets, trellises, panel charts, small multiples)\n",
    "* In the line chart viz -> Drag Ticker to the Rows shelf or the Columns shelf (Columns shelf is superior in this case, why?)\n",
    "* Left click on the Label Marks and play with the options for Show mark labels\n",
    "\n",
    "Groups\n",
    "* Right click on the Close Price Line Chart sheet -> Duplicate as Crosstab\n",
    "* In the cross-tab sheet -> hold Ctrl and select the ticker rows that you want to group -> Click paper-clip to group <- this creates a Ticker (group)\n",
    "* Drag the Ticker (group) to the Rows shelf to facet horizontally\n",
    "* Drag the Domestic or Foreign to the Columns shelf to facet vertically\n",
    "* Change the aggregation of SUM(Close) to AVG(Close)"
   ]
  },
  {
   "cell_type": "markdown",
   "metadata": {},
   "source": [
    "### Adding Data Connections and Sources"
   ]
  },
  {
   "cell_type": "markdown",
   "metadata": {},
   "source": [
    "In the Data Source tab -> Click the Add button to the right of Connections -> Excel -> select the file\n",
    "* Double-click the table in the canvas and then drag the newly added table to the canvas <- this process brings up the union bubbles\n",
    "* Double-click the join to modify joined fields and join type\n",
    "* Hide redundant columns after the join in configured to your specification\n",
    "* When you return to your viz, observe how the newly joined table is integrated into the LHS Data panel"
   ]
  },
  {
   "cell_type": "markdown",
   "metadata": {},
   "source": [
    "### Forecasting"
   ]
  },
  {
   "cell_type": "markdown",
   "metadata": {},
   "source": [
    "Gartner Analytic Ascendency Model (Laney, 2015)\n",
    "* Descriptive analytics (what ocurred?) -> Diagnostic analytics (why did it occur?) -> Predictive analytics (what will occur?) -> Prescriptive analytics (how can we make it occur?)\n",
    "* Hindsight -> Insight -> Foresight\n",
    "Analytics tab (LHS)\n",
    "* Drag Trend Line onto viz in the Linear option (play around with this stuff)\n",
    "* Forecasting works on time-series data (Drag Forecast onto the viz and play around with the results)\n",
    "Laney, D (2017) Infonomics: How to Monetize, Manage, and Measure Information as an Asset for Competitive Advantage"
   ]
  },
  {
   "cell_type": "markdown",
   "metadata": {},
   "source": [
    "### Clustering"
   ]
  },
  {
   "cell_type": "markdown",
   "metadata": {},
   "source": [
    "Clustering - a way to automatically group observations together based on how similar they are on one or more dimensions\n",
    "* Set up your viz and then go to Analytics tab on LHS -> Drag Cluster onto the viz\n",
    "* Drag Average with 95% CI onto the viz and play around with the options and results"
   ]
  },
  {
   "cell_type": "markdown",
   "metadata": {},
   "source": [
    "### Communicating Tableau Analyses"
   ]
  },
  {
   "cell_type": "markdown",
   "metadata": {},
   "source": [
    "Dashboards provide and impactful and comprehensive way for communicating finding to others\n",
    "* Have your viz sheets ready and then click the Add Dashboard button at the lower part of the screen.\n",
    "* Your viz will appear on RHS and hovering over them brings up helpful preview thumbnails\n",
    "* Drag your first viz onto the dashboard canvas\n",
    "* Drag other viz onto the dashboard\n",
    "* Explore how to use filtering that is connected across all viz within the dashboard\n",
    "* Save as a Tableau Packaged Workbook or as a PDF"
   ]
  },
  {
   "cell_type": "code",
   "execution_count": null,
   "metadata": {},
   "outputs": [],
   "source": []
  }
 ],
 "metadata": {
  "kernelspec": {
   "display_name": "Python 3",
   "language": "python",
   "name": "python3"
  },
  "language_info": {
   "codemirror_mode": {
    "name": "ipython",
    "version": 3
   },
   "file_extension": ".py",
   "mimetype": "text/x-python",
   "name": "python",
   "nbconvert_exporter": "python",
   "pygments_lexer": "ipython3",
   "version": "3.8.5"
  }
 },
 "nbformat": 4,
 "nbformat_minor": 4
}
