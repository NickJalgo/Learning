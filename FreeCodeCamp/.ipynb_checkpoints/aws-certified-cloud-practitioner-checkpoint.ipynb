{
 "cells": [
  {
   "cell_type": "markdown",
   "metadata": {},
   "source": [
    "# AWS Certified Cloud Practitioner"
   ]
  },
  {
   "cell_type": "markdown",
   "metadata": {},
   "source": [
    "### Certification Content\n",
    "* (28%) - Cloud Concepts\n",
    "* (24%) - Security\n",
    "* (36%) - Technology\n",
    "* (12%) - Billing and Pricing"
   ]
  },
  {
   "cell_type": "markdown",
   "metadata": {},
   "source": [
    "### Recommended White-Papers\n",
    "* (Jun 2019) - Overview of Amazon Web Services\n",
    "* (Oct 2018) - Architecting for the Cloud: AWS Best Practices\n",
    "* (Jun 2018) - How AWS Pricing Works\n",
    "* (Mar 2018) - Cost Management in the AWS Cloud"
   ]
  },
  {
   "cell_type": "markdown",
   "metadata": {},
   "source": [
    "### What is Cloud Computing?\n",
    "* The practice of using a network of remote servers hosted on the Internet to store, manage, and process data, rather than a local server or a personal computer.\n",
    "* On-Premise\n",
    " * You own the servers\n",
    " * You hire IT people\n",
    " * You pay or rent real-estate\n",
    " * You take all the risk\n",
    "* Cloud Providers\n",
    " * Someone else owns the servers\n",
    " * Someone else hires IT people\n",
    " * Someone else pays or rents the real-estate\n",
    " * You are responsible for configuring cloud services and code while someone else takes care of the rest"
   ]
  },
  {
   "cell_type": "markdown",
   "metadata": {},
   "source": [
    "### Six Advantages and Benefits of Cloud Computing\n",
    "* Trade capital expense for variable expense\n",
    " * No upfront costs - instead of paying for data centers and servers you pay on-demand for consuming computing resources\n",
    "* Benefit from massive economies of scale\n",
    " * Usage from many customers aggregated in the cloud reduces the marginal costs for all customers\n",
    "* Stop guessing capacity\n",
    " * Eliminate guesswork about infrastructure capacity needs. Instead of paying for idle or underutilized servers, you can scale up or down to meet the current need.\n",
    "* Increase speed and agility\n",
    " * Launch resources within a few clicks in minutes instead of waiting days or weeks for on-premises deployment\n",
    "* Stope spending money on running and maintain data centers\n",
    " * Focus on your own customers, rather than on the heavy lifting of racking, stacking, and powering servers\n",
    "* Go global in minutes\n",
    " * Deploy your app in multiple regions around the world with a few clicks\n",
    " * Provide lower latency and a better experience for you customers at minimal costs"
   ]
  },
  {
   "cell_type": "markdown",
   "metadata": {},
   "source": [
    "### Types of Cloud Computing\n",
    "* SaaS - Software as a Service (For Customers)\n",
    " * A completed product that is run and management by the service provider\n",
    " * Don't worry about how the service is maintained. It just works and remains available.\n",
    " * Salesforce, Gmail, Office365\n",
    "* PaaS - Platform as a Service (For Developers)\n",
    " * Removes the need for your organization to manage the underlying infrastructure.\n",
    " * Focus on the deployment and management of your applications.\n",
    " * Don't worry about provisioning, configuring or understanding the hardware or OS.\n",
    " * Elastic Beanstock (AWS), Heroku, Engines for Google\n",
    "* IaaS - Infrastructure as a Service (For Admins)\n",
    " * The basic building block for cloud IT.\n",
    " * Provides access to networking features, computers, and data storage space.\n",
    " * Dont' worry about IT staff, data centers, and hardware.\n",
    " * AWS, Google Cloud Platform, Microsoft Azure "
   ]
  },
  {
   "cell_type": "markdown",
   "metadata": {},
   "source": [
    "### Cloud Computing Deployment Models\n",
    "* Cloud (fully utilizing cloud computing)\n",
    " * Startups, SaaS offerings, new projects\n",
    "* Hybrid (combining cloud and on-premise)\n",
    " * Banks, FinTech, Investment Management, large professional service providers, legacy on-premise\n",
    "* On-Premise (deploying resources on-premises, using virtualization and resource management tools)\n",
    " * Sometimes referred to as a \"private cloud\"\n",
    " * Public sector (government), super sensitive data (hospitals), large enterprises with heavy regulation (insurance companies)"
   ]
  },
  {
   "cell_type": "markdown",
   "metadata": {},
   "source": [
    "### AWS Global Infrastucture\n",
    "* 68 Availability Zones (AZ) - one or more discrete data centers\n",
    " * Data center owned and operated by AWS in which AWS services run\n",
    " * Represented by a Region Code, followed by a letter identifier (e.g. us-east-1a)\n",
    " * Multiple AZ distributing your instances across multiple AZ allows for failover configuration for handling requests when one goes down\n",
    " * Less than 10ms latency between AZ\n",
    "* 22 Geographic Regions (GR) - geograpically distinct locations in the world with multiple AZ (must have at least two AZ)\n",
    " * Every region is physically isolated from and independent of every other region in terms of location, power, and water supply\n",
    " * US-East is the largest GR - new services almost always become available first in US-East\n",
    " * Not all services are available in all regions (go to AWS services by region table to see what is available)\n",
    " * US-East-1 is the region where you see all your billing information\n",
    "* Many Edge Locations (EL) - datacenters owned by a trusted partner of AWS or AWS itself which has a direct connection to the AWS network\n",
    " * These locations serve requests for CloudFront and Route 53 - requests going to either of these services will be routed to the nearest edge location automatically\n",
    " * S3 Transfer Acceleration traffic and API Gateway endpoint traffic also use the AWS Edge Network\n",
    " * This allwos for low latency no matter where the end user is geographically located\n",
    "* GovCloud (US)\n",
    " * AWS GovCloud Regions allows customers to host sensitive Controlled Unclassified Information and other types of regulated workloads\n",
    " * Only operated by employees who are US citizens on US soil\n",
    " * Only accessible to US entities and root account holders who pass a screening process\n",
    " * Customers can architect secure cloud solutions that comply with:\n",
    "   * FedRAMP High baseline\n",
    "   * DOJ's Criminal Justic Information Systems Security Policy\n",
    "   * US International Traffic in Arms Regulation\n",
    "   * Export Administration Regulations\n",
    "   * Department of Defense Cloud Computing Security Requirements Guide\n",
    "* AWS serves over a million active customers in more than 190 countries\n",
    "* Steadily expanding global infrastructure to help customers achieve lower latency and higher throughput"
   ]
  },
  {
   "cell_type": "markdown",
   "metadata": {},
   "source": [
    "### Creating an AWS Account\n",
    "* Click the orange button -> Create an AWS Account\n",
    " * Fill out the form\n",
    " * Select the Basic support plan\n",
    " * This process creates the \"root\" account\n",
    "* Billing configuration - billing preferences, budgets, and alarms\n",
    " * Go to My Billing Dashboard -> Billing preferences -> check all three options\n",
    " * Type -> budgets <- search bar  -> AWS Budgets\n",
    "   * Create a budget -> Budget details -> Name, Period, Recurring Budget, Fixed (Budget amount), Budgeted amount, Aggregated costs by (unblended costs) -> Configure thresholds\n",
    "   * Budget threshold -> Set threshold based on (Actual cost), Alert threshold (80% of budgeted amount, Email recipient (Set up your notification)\n",
    " * Type -> cloudwatch <- search bar  -> CloudWatch\n",
    "   * Billing -> if you're not in us-east-1 you have to switch to that region (look at the top navigation bar in the AWS Console)\n",
    "   * Create alarm -> Define the threshold value, Whenever EstimatedCharges is (Greater/Equal >= threshold), leave other options as-is -> Next\n",
    "   * Configure actions -> Notificaton, Create new topic, Email endpoints that will receive the notification..., -> Next\n",
    "   * Add a description -> Alarm name, Alarm description -> Next  -> Pending confirmation"
   ]
  },
  {
   "cell_type": "markdown",
   "metadata": {},
   "source": [
    "### Change IAM Users Sign-In Link\n",
    "* Type -> IAM <- search bar  -> IAM\n",
    " * Delete your root access keys\n",
    " * Activate MFA on your root account -> Manage MFA (Virtual MFA device, U2F security key, Other hardware MFA device) <- choose Virtual MFA device\n",
    "   * Install compatible application on your phone (Android -> Google authenticator) -> scan a QR code and follow the rest of the process\n",
    " * Create individual IAM users\n",
    "   * You do not want to be using the root account (the root account is rarely used in instances where functions can only be accessed via the root account)\n",
    "   * Manage users -> Add user -> User name, Access type (programmatic access), AWS Management Console access, Console password (Autogenerated password), Require password reset\n",
    " * Use groups to assign permissions\n",
    "   * Create group -> Group name -> Admins -> AdministratorAccess (Provides full access to AWS services and resources)\n",
    "   * Most users you want to set to PowerUserAccess (Provides full access to AWS services and resources, but does not allow management of users and groups) -> Next\n",
    " * Apply an IAM password policy\n",
    "   * Manage password policy\n",
    "* Customize sign-in URL for IAM users in this account\n",
    "* Login to user account\n",
    " * Account ID or alias, IAM user name, Password\n",
    " * This logs into the user account and not the root account"
   ]
  },
  {
   "cell_type": "markdown",
   "metadata": {},
   "source": [
    "### Elastic Cloud Computing (EC2)\n",
    "* Type -> EC2 <- search bar  -> EC2\n",
    " * Launch Instance\n",
    "   * Choose an Amazon Machine Image (AMI -> Amazon Linux 2 AMI (HVM), SSD Volume Type)\n",
    "   * Choose an Instance Type (Family, Type, vCPUs, Memory, Instance Storage (GB), EBS-Optimized Available, Network Performance, iPv6 Support)\n",
    "   * Configure Instance Detail (Number of instances (1), IAM role (Create new IAM rolem, see next bullet point)) -> Next: Add Storage\n",
    "   * Common use cases (EC2) for IAM role -> type -> ssm <- Filter policies  -> select AmazonEC2RoleforSSM (Simple System Manager) -> assign a Role name\n",
    "   * Select the storage configuration -> Review and Launch -> Launch -> Proceed without a key pair and check off acknowledgement check-box -> View Instances\n",
    " * Wait for new instance checks to pass (there are two checks)\n",
    "   * You can rename the instance in the Instances EC2 Dashboard\n",
    "   * Clicking on the instance displays lots of information about the instance\n",
    "   * Stopping the instance stops the billing associated with the instance\n",
    "   * Terminating the instance DESTROYS the instance (dangerous to do because you may not have wanted to destroy the instance)\n",
    " * Connecting to the instance\n",
    "   * Type -> SSM <- search bar  -> AWS Systems Manager\n",
    "   * Session Manager -> Start session -> select the instance  -> Start session -> Terminate session"
   ]
  },
  {
   "cell_type": "code",
   "execution_count": null,
   "metadata": {},
   "outputs": [],
   "source": []
  }
 ],
 "metadata": {
  "kernelspec": {
   "display_name": "Python 3",
   "language": "python",
   "name": "python3"
  },
  "language_info": {
   "codemirror_mode": {
    "name": "ipython",
    "version": 3
   },
   "file_extension": ".py",
   "mimetype": "text/x-python",
   "name": "python",
   "nbconvert_exporter": "python",
   "pygments_lexer": "ipython3",
   "version": "3.8.5"
  }
 },
 "nbformat": 4,
 "nbformat_minor": 4
}
