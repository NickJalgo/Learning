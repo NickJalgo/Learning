{
 "cells": [
  {
   "cell_type": "markdown",
   "metadata": {},
   "source": [
    "## Functional Programming"
   ]
  },
  {
   "cell_type": "markdown",
   "metadata": {},
   "source": [
    "#### Functional Programming\n",
    "##### A programming paradigm in which the primary method of computation is evaluation of functions via the use of immutable data structures and minimization of side effects.\n",
    "##### A pure function is a function whose output value follows solely from its input values, without any observable side effects. Pure functions can more easily run in parallel with one another.\n",
    "##### To support functional programming, it's useful if a function in a given programming language has two abilities:\n",
    "\n",
    "* To take another funciton as an argument.\n",
    "* To return another function to its caller.\n",
    "\n",
    "##### In Python, functions are first-class citizens - functions have the same characteristics as values like strings and numbers. Anything you would expect to be able to do with a string or number, you can do with a function as well.\n",
    "##### Using immutable data structures allows for worry-free multithreading (parallel processing) because you don't have to worry about locking the data structure."
   ]
  },
  {
   "cell_type": "markdown",
   "metadata": {},
   "source": [
    "#### Mutable Data Structures: Lists and Dictionaries"
   ]
  },
  {
   "cell_type": "code",
   "execution_count": 1,
   "metadata": {},
   "outputs": [],
   "source": [
    "scientists = [\n",
    "    {'name': 'Ada Lovelace', 'field':'math', 'born':1815, 'nobel':False},\n",
    "    {'name': 'Emmy Noether', 'field':'math', 'born':1882, 'nobel':False}\n",
    "]"
   ]
  },
  {
   "cell_type": "code",
   "execution_count": 2,
   "metadata": {},
   "outputs": [
    {
     "data": {
      "text/plain": [
       "[{'name': 'Ada Lovelace', 'field': 'math', 'born': 1815, 'nobel': False},\n",
       " {'name': 'Emmy Noether', 'field': 'math', 'born': 1882, 'nobel': False}]"
      ]
     },
     "execution_count": 2,
     "metadata": {},
     "output_type": "execute_result"
    }
   ],
   "source": [
    "scientists"
   ]
  },
  {
   "cell_type": "markdown",
   "metadata": {},
   "source": [
    "#### Problem with mutable data structures is that you can change the easily..."
   ]
  },
  {
   "cell_type": "code",
   "execution_count": 3,
   "metadata": {},
   "outputs": [
    {
     "data": {
      "text/plain": [
       "[{'name': 'Ed Lovelace', 'field': 'math', 'born': 1815, 'nobel': False},\n",
       " {'name': 'Emmy Noether', 'field': 'math', 'born': 1882, 'nobel': False}]"
      ]
     },
     "execution_count": 3,
     "metadata": {},
     "output_type": "execute_result"
    }
   ],
   "source": [
    "scientists[0]['name'] = 'Ed Lovelace'\n",
    "scientists"
   ]
  },
  {
   "cell_type": "code",
   "execution_count": 4,
   "metadata": {},
   "outputs": [
    {
     "data": {
      "text/plain": [
       "[{'name': 'Ada Lovelace', 'field': 'math', 'born': 1815, 'nobel': False},\n",
       " {'name': 'Emmy Noether', 'field': 'math', 'born': 1882, 'nobel': False}]"
      ]
     },
     "execution_count": 4,
     "metadata": {},
     "output_type": "execute_result"
    }
   ],
   "source": [
    "scientists[0]['name'] = 'Ada Lovelace'\n",
    "scientists"
   ]
  },
  {
   "cell_type": "markdown",
   "metadata": {},
   "source": [
    "#### Also in the list of dictionaries, the keys repeat way too much. What if you made an error with transcribing on of the keys?"
   ]
  },
  {
   "cell_type": "markdown",
   "metadata": {},
   "source": [
    "#### Let's use an immutable data structure instead..."
   ]
  },
  {
   "cell_type": "code",
   "execution_count": 5,
   "metadata": {},
   "outputs": [
    {
     "data": {
      "text/plain": [
       "__main__.Scientist"
      ]
     },
     "execution_count": 5,
     "metadata": {},
     "output_type": "execute_result"
    }
   ],
   "source": [
    "import collections\n",
    "Scientist = collections.namedtuple('Scientist', [\n",
    "    'name',\n",
    "    'field',\n",
    "    'born',\n",
    "    'nobel',\n",
    "])\n",
    "\n",
    "Scientist"
   ]
  },
  {
   "cell_type": "code",
   "execution_count": 6,
   "metadata": {},
   "outputs": [],
   "source": [
    "ada = Scientist(name='Ada Lovelace', field='math', born=1815, nobel=False)"
   ]
  },
  {
   "cell_type": "code",
   "execution_count": 7,
   "metadata": {},
   "outputs": [
    {
     "data": {
      "text/plain": [
       "'math'"
      ]
     },
     "execution_count": 7,
     "metadata": {},
     "output_type": "execute_result"
    }
   ],
   "source": [
    "ada.name\n",
    "ada.field"
   ]
  },
  {
   "cell_type": "code",
   "execution_count": 8,
   "metadata": {},
   "outputs": [
    {
     "data": {
      "text/plain": [
       "[Scientist(name='Ada Lovelace', field='math', born=1815, nobel=False),\n",
       " Scientist(name='Emmy Noether', field='math', born=1882, nobel=False)]"
      ]
     },
     "execution_count": 8,
     "metadata": {},
     "output_type": "execute_result"
    }
   ],
   "source": [
    "scientists = [\n",
    "    Scientist(name='Ada Lovelace', field='math', born=1815, nobel=False),\n",
    "    Scientist(name='Emmy Noether', field='math', born=1882, nobel=False),\n",
    "]\n",
    "\n",
    "scientists"
   ]
  },
  {
   "cell_type": "markdown",
   "metadata": {},
   "source": [
    "#### The problem with the implementation above is that scientists is a list of immutable objects, but the list itself is immutable."
   ]
  },
  {
   "cell_type": "code",
   "execution_count": 9,
   "metadata": {},
   "outputs": [
    {
     "name": "stdout",
     "output_type": "stream",
     "text": [
      "[Scientist(name='Ada Lovelace', field='math', born=1815, nobel=False),\n",
      " Scientist(name='Emmy Noether', field='math', born=1882, nobel=False)]\n"
     ]
    }
   ],
   "source": [
    "from pprint import pprint\n",
    "pprint(scientists)"
   ]
  },
  {
   "cell_type": "markdown",
   "metadata": {},
   "source": [
    "#### Instead of using a list, use a tuple instead to enforce immutability."
   ]
  },
  {
   "cell_type": "code",
   "execution_count": 10,
   "metadata": {},
   "outputs": [
    {
     "data": {
      "text/plain": [
       "(Scientist(name='Ada Lovelace', field='math', born=1815, nobel=False),\n",
       " Scientist(name='Emmy Noether', field='math', born=1882, nobel=False))"
      ]
     },
     "execution_count": 10,
     "metadata": {},
     "output_type": "execute_result"
    }
   ],
   "source": [
    "scientists = (\n",
    "    Scientist(name='Ada Lovelace', field='math', born=1815, nobel=False),\n",
    "    Scientist(name='Emmy Noether', field='math', born=1882, nobel=False),\n",
    ")\n",
    "\n",
    "scientists"
   ]
  },
  {
   "cell_type": "code",
   "execution_count": null,
   "metadata": {},
   "outputs": [],
   "source": []
  }
 ],
 "metadata": {
  "kernelspec": {
   "display_name": "Python 3",
   "language": "python",
   "name": "python3"
  },
  "language_info": {
   "codemirror_mode": {
    "name": "ipython",
    "version": 3
   },
   "file_extension": ".py",
   "mimetype": "text/x-python",
   "name": "python",
   "nbconvert_exporter": "python",
   "pygments_lexer": "ipython3",
   "version": "3.8.5"
  }
 },
 "nbformat": 4,
 "nbformat_minor": 5
}
